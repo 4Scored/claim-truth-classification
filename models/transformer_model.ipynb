{
 "cells": [
  {
   "cell_type": "code",
   "execution_count": null,
   "id": "cb5b4918-3ce4-4c29-a670-0006fbf5051e",
   "metadata": {},
   "outputs": [],
   "source": [
    "import numpy as np\n",
    "import pandas as pd\n",
    "from torch.nn.functional import softmax\n",
    "from datasets import DatasetDict, load_dataset\n",
    "from transformers import AutoTokenizer, AutoModelForSequenceClassification, Trainer, TrainingArguments, DataCollatorWithPadding\n",
    "from sklearn.metrics import f1_score, accuracy_score"
   ]
  },
  {
   "cell_type": "code",
   "execution_count": null,
   "id": "c8cc0190-e76d-44fa-9ee9-e9a4e64c1f6c",
   "metadata": {},
   "outputs": [],
   "source": [
    "dataset = load_dataset(\"liar\", trust_remote_code=True)\n",
    "dataset"
   ]
  },
  {
   "cell_type": "code",
   "execution_count": null,
   "id": "c9cdeddd-172d-4a19-86aa-cb3c69387e8b",
   "metadata": {},
   "outputs": [],
   "source": [
    "model_path_name = 'distilbert/distilbert-base-uncased'"
   ]
  },
  {
   "cell_type": "code",
   "execution_count": null,
   "id": "9c2557a8-3336-4847-a4af-1415ee1cead6",
   "metadata": {},
   "outputs": [],
   "source": [
    "# 'false' (0), 'half-true' (1), 'mostly-true' (2), 'true' (3), 'barely-true' (4), 'pants-fire' (5)\n",
    "idx_labels = {0: 'false', 1: 'half-true', 2: 'mostly-true', 3: 'true', 4: 'barely-true', 5: 'pants-fire'}\n",
    "labels_idx = {'false': 0, 'half-true': 1, 'mostly-true': 2, 'true': 3, 'barely-true': 4, 'pants-fire': 5}"
   ]
  },
  {
   "cell_type": "code",
   "execution_count": null,
   "id": "542c1265-90dd-4079-818a-6082e5b7fb2c",
   "metadata": {},
   "outputs": [],
   "source": [
    "model = AutoModelForSequenceClassification.from_pretrained(model_path_name,\n",
    "                                                          num_labels=len(idx_labels),\n",
    "                                                          id2label=idx_labels,\n",
    "                                                          label2id=labels_idx)"
   ]
  },
  {
   "cell_type": "code",
   "execution_count": null,
   "id": "deaaabef-623c-4b85-b25d-6e175231dd0d",
   "metadata": {},
   "outputs": [],
   "source": [
    "# for name, param in model.named_parameters():\n",
    "#     print(name, param.requires_grad)\n",
    "\n",
    "# initial freezing of distilbert parameters\n",
    "for p in model.distilbert.parameters():\n",
    "    p.requires_grad = False"
   ]
  },
  {
   "cell_type": "code",
   "execution_count": null,
   "id": "762cbba3-720b-4137-ac7c-0c080f22feee",
   "metadata": {},
   "outputs": [],
   "source": [
    "tokenizer = AutoTokenizer.from_pretrained(model_path_name)"
   ]
  },
  {
   "cell_type": "code",
   "execution_count": null,
   "id": "b52462d0-ec24-4796-bb69-3f0633ee1c23",
   "metadata": {},
   "outputs": [],
   "source": [
    "def preprocess_func(data):\n",
    "    return tokenizer(data['statement'], truncation=True, max_length = 128, padding='max_length')"
   ]
  },
  {
   "cell_type": "code",
   "execution_count": null,
   "id": "2c6d140f-297c-4fc9-9a20-5ecb4692f06c",
   "metadata": {},
   "outputs": [],
   "source": [
    "tokenized_data = dataset.map(preprocess_func, batched=True)\n",
    "tokenized_data.set_format(type=\"torch\", columns=[\"input_ids\", \"attention_mask\", \"label\"])\n",
    "\n",
    "# keep the \"necessary\" columns (label, input_ids, and the mask), cleaner\n",
    "features = ['id', 'statement', 'subject', 'speaker', 'job_title', 'state_info', 'party_affiliation', 'barely_true_counts', 'false_counts', 'half_true_counts', 'mostly_true_counts', 'pants_on_fire_counts', 'context']\n",
    "tokenized_data = tokenized_data.remove_columns(features)\n",
    "\n",
    "tokenized_data"
   ]
  },
  {
   "cell_type": "code",
   "execution_count": null,
   "id": "d1aaa717-49a9-41e1-80c3-06768e0201df",
   "metadata": {},
   "outputs": [],
   "source": [
    "data_collator = DataCollatorWithPadding(tokenizer=tokenizer)"
   ]
  },
  {
   "cell_type": "code",
   "execution_count": null,
   "id": "85004adb-4930-4901-bff9-53bd33b65068",
   "metadata": {},
   "outputs": [],
   "source": [
    "def compute_metrics(eval_pred):\n",
    "    logits, labels = eval_pred    \n",
    "    probs = softmax(logits, axis=-1)\n",
    "    preds = argmax(probs, axis=-1)\n",
    "    return {\n",
    "        'accuracy:': accuracy_score(labels, preds),\n",
    "        'macro_f1 score:': f1_score(labels, preds, average=\"macro\")\n",
    "    }    "
   ]
  },
  {
   "cell_type": "code",
   "execution_count": null,
   "id": "52ef883f-ed2e-4aae-8603-878628a66026",
   "metadata": {},
   "outputs": [],
   "source": [
    "lr = 2e-4\n",
    "batch_size = 16\n",
    "num_epochs = 5\n",
    "\n",
    "training_args = TrainingArguments(\n",
    "    output_dir='output/distilbert-liar-classifier',\n",
    "    learning_rate=lr, \n",
    "    per_device_train_batch_size=batch_size,\n",
    "    per_device_eval_batch_size=batch_size,\n",
    "    num_train_epochs=num_epochs,\n",
    "    logging_strategy=\"epoch\",\n",
    "    eval_strategy=\"epoch\",\n",
    "    save_strategy=\"epoch\",\n",
    "    load_best_model_at_end=True\n",
    ")"
   ]
  },
  {
   "cell_type": "code",
   "execution_count": null,
   "id": "7419891b-4e13-4ac9-9b44-aa9ec2210025",
   "metadata": {},
   "outputs": [],
   "source": [
    "trainer = Trainer(\n",
    "    model=model, \n",
    "    args=training_args,\n",
    "    train_dataset=tokenized_data['train'],\n",
    "    eval_dataset=tokenized_data['validation'],\n",
    "    processing_class=tokenizer,\n",
    "    data_collator=data_collator,\n",
    "    compute_metrics=compute_metrics\n",
    ")"
   ]
  },
  {
   "cell_type": "code",
   "execution_count": null,
   "id": "c5b47af1-18c5-4563-8ffd-dbf418d18cd0",
   "metadata": {},
   "outputs": [],
   "source": [
    "trainer.train()"
   ]
  },
  {
   "cell_type": "code",
   "execution_count": null,
   "id": "6c70438f-c3fb-4cf1-a3da-0d66a16ee8c9",
   "metadata": {},
   "outputs": [],
   "source": []
  },
  {
   "cell_type": "code",
   "execution_count": null,
   "id": "6b1e1d2a-ebdf-41aa-8864-90d83a290287",
   "metadata": {},
   "outputs": [],
   "source": []
  },
  {
   "cell_type": "code",
   "execution_count": null,
   "id": "e72a3082-8663-4358-958c-81dd0335a165",
   "metadata": {},
   "outputs": [],
   "source": []
  }
 ],
 "metadata": {
  "kernelspec": {
   "display_name": "Python [conda env:base] *",
   "language": "python",
   "name": "conda-base-py"
  },
  "language_info": {
   "codemirror_mode": {
    "name": "ipython",
    "version": 3
   },
   "file_extension": ".py",
   "mimetype": "text/x-python",
   "name": "python",
   "nbconvert_exporter": "python",
   "pygments_lexer": "ipython3",
   "version": "3.9.19"
  }
 },
 "nbformat": 4,
 "nbformat_minor": 5
}
