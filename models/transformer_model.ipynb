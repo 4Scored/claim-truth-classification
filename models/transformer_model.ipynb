{
 "cells": [
  {
   "cell_type": "code",
   "execution_count": 1,
   "id": "cb5b4918-3ce4-4c29-a670-0006fbf5051e",
   "metadata": {},
   "outputs": [
    {
     "name": "stderr",
     "output_type": "stream",
     "text": [
      "2025-09-20 14:55:25.088064: I tensorflow/core/platform/cpu_feature_guard.cc:210] This TensorFlow binary is optimized to use available CPU instructions in performance-critical operations.\n",
      "To enable the following instructions: SSE4.1 SSE4.2, in other operations, rebuild TensorFlow with the appropriate compiler flags.\n"
     ]
    }
   ],
   "source": [
    "import torch\n",
    "import numpy as np\n",
    "import pandas as pd\n",
    "from datasets import DatasetDict, load_dataset\n",
    "from transformers import AutoTokenizer, AutoModelForSequenceClassification, Trainer, TrainingArguments, DataCollatorWithPadding, AutoConfig\n",
    "from sklearn.metrics import f1_score, accuracy_score"
   ]
  },
  {
   "cell_type": "code",
   "execution_count": 2,
   "id": "c8cc0190-e76d-44fa-9ee9-e9a4e64c1f6c",
   "metadata": {},
   "outputs": [
    {
     "data": {
      "text/plain": [
       "DatasetDict({\n",
       "    train: Dataset({\n",
       "        features: ['id', 'label', 'statement', 'subject', 'speaker', 'job_title', 'state_info', 'party_affiliation', 'barely_true_counts', 'false_counts', 'half_true_counts', 'mostly_true_counts', 'pants_on_fire_counts', 'context'],\n",
       "        num_rows: 10269\n",
       "    })\n",
       "    test: Dataset({\n",
       "        features: ['id', 'label', 'statement', 'subject', 'speaker', 'job_title', 'state_info', 'party_affiliation', 'barely_true_counts', 'false_counts', 'half_true_counts', 'mostly_true_counts', 'pants_on_fire_counts', 'context'],\n",
       "        num_rows: 1283\n",
       "    })\n",
       "    validation: Dataset({\n",
       "        features: ['id', 'label', 'statement', 'subject', 'speaker', 'job_title', 'state_info', 'party_affiliation', 'barely_true_counts', 'false_counts', 'half_true_counts', 'mostly_true_counts', 'pants_on_fire_counts', 'context'],\n",
       "        num_rows: 1284\n",
       "    })\n",
       "})"
      ]
     },
     "execution_count": 2,
     "metadata": {},
     "output_type": "execute_result"
    }
   ],
   "source": [
    "dataset = load_dataset('liar', trust_remote_code=True)\n",
    "dataset"
   ]
  },
  {
   "cell_type": "code",
   "execution_count": 3,
   "id": "c9cdeddd-172d-4a19-86aa-cb3c69387e8b",
   "metadata": {},
   "outputs": [],
   "source": [
    "model_path_name = 'distilbert/distilbert-base-uncased'"
   ]
  },
  {
   "cell_type": "code",
   "execution_count": 4,
   "id": "9c2557a8-3336-4847-a4af-1415ee1cead6",
   "metadata": {},
   "outputs": [],
   "source": [
    "# 'false' (0), 'half-true' (1), 'mostly-true' (2), 'true' (3), 'barely-true' (4), 'pants-fire' (5)\n",
    "idx_labels = {0: 'false', 1: 'half-true', 2: 'mostly-true', 3: 'true', 4: 'barely-true', 5: 'pants-fire'}\n",
    "labels_idx = {'false': 0, 'half-true': 1, 'mostly-true': 2, 'true': 3, 'barely-true': 4, 'pants-fire': 5}"
   ]
  },
  {
   "cell_type": "code",
   "execution_count": 5,
   "id": "542c1265-90dd-4079-818a-6082e5b7fb2c",
   "metadata": {},
   "outputs": [
    {
     "name": "stderr",
     "output_type": "stream",
     "text": [
      "Some weights of DistilBertForSequenceClassification were not initialized from the model checkpoint at distilbert/distilbert-base-uncased and are newly initialized: ['classifier.bias', 'classifier.weight', 'pre_classifier.bias', 'pre_classifier.weight']\n",
      "You should probably TRAIN this model on a down-stream task to be able to use it for predictions and inference.\n"
     ]
    }
   ],
   "source": [
    "model = AutoModelForSequenceClassification.from_pretrained(model_path_name,\n",
    "                                                          num_labels=len(idx_labels),\n",
    "                                                          id2label=idx_labels,\n",
    "                                                          label2id=labels_idx)"
   ]
  },
  {
   "cell_type": "code",
   "execution_count": 6,
   "id": "deaaabef-623c-4b85-b25d-6e175231dd0d",
   "metadata": {},
   "outputs": [],
   "source": [
    "# freezing of distilbert parameters\n",
    "for p in model.distilbert.parameters():\n",
    "    p.requires_grad = False\n",
    "# unfreeze last two layers\n",
    "for p in model.distilbert.transformer.layer[-2:].parameters():\n",
    "    p.requires_grad = True"
   ]
  },
  {
   "cell_type": "code",
   "execution_count": 7,
   "id": "762cbba3-720b-4137-ac7c-0c080f22feee",
   "metadata": {},
   "outputs": [],
   "source": [
    "tokenizer = AutoTokenizer.from_pretrained(model_path_name)"
   ]
  },
  {
   "cell_type": "code",
   "execution_count": 8,
   "id": "b52462d0-ec24-4796-bb69-3f0633ee1c23",
   "metadata": {},
   "outputs": [],
   "source": [
    "def preprocess_func(data):\n",
    "    return tokenizer(data['statement'], truncation=True, max_length = 128, padding='max_length')"
   ]
  },
  {
   "cell_type": "code",
   "execution_count": 9,
   "id": "2c6d140f-297c-4fc9-9a20-5ecb4692f06c",
   "metadata": {},
   "outputs": [
    {
     "data": {
      "text/plain": [
       "DatasetDict({\n",
       "    train: Dataset({\n",
       "        features: ['label', 'input_ids', 'attention_mask'],\n",
       "        num_rows: 10269\n",
       "    })\n",
       "    test: Dataset({\n",
       "        features: ['label', 'input_ids', 'attention_mask'],\n",
       "        num_rows: 1283\n",
       "    })\n",
       "    validation: Dataset({\n",
       "        features: ['label', 'input_ids', 'attention_mask'],\n",
       "        num_rows: 1284\n",
       "    })\n",
       "})"
      ]
     },
     "execution_count": 9,
     "metadata": {},
     "output_type": "execute_result"
    }
   ],
   "source": [
    "tokenized_data = dataset.map(preprocess_func, batched=True)\n",
    "tokenized_data.set_format(type='torch', columns=['input_ids', 'attention_mask', 'label'])\n",
    "\n",
    "# keep the 'necessary' columns (label, input_ids, and the mask), cleaner\n",
    "features = ['id', 'statement', 'subject', 'speaker', 'job_title', 'state_info', 'party_affiliation', 'barely_true_counts', 'false_counts', 'half_true_counts', 'mostly_true_counts', 'pants_on_fire_counts', 'context']\n",
    "tokenized_data = tokenized_data.remove_columns(features)\n",
    "\n",
    "tokenized_data"
   ]
  },
  {
   "cell_type": "code",
   "execution_count": 10,
   "id": "d1aaa717-49a9-41e1-80c3-06768e0201df",
   "metadata": {},
   "outputs": [],
   "source": [
    "data_collator = DataCollatorWithPadding(tokenizer=tokenizer)"
   ]
  },
  {
   "cell_type": "code",
   "execution_count": 11,
   "id": "85004adb-4930-4901-bff9-53bd33b65068",
   "metadata": {},
   "outputs": [],
   "source": [
    "def compute_metrics(eval_pred):\n",
    "    logits, labels = eval_pred    \n",
    "    logits = torch.tensor(logits)\n",
    "    probs = torch.nn.functional.softmax(logits, dim=-1)\n",
    "    preds = torch.argmax(probs, dim=-1)    \n",
    "    return {\n",
    "        'accuracy:': accuracy_score(labels, preds),\n",
    "        'macro_f1 score:': f1_score(labels, preds, average='macro')\n",
    "    }    "
   ]
  },
  {
   "cell_type": "code",
   "execution_count": 12,
   "id": "6d14a170-096b-4e7b-b846-cc9cd695aab5",
   "metadata": {},
   "outputs": [],
   "source": [
    "config = AutoConfig.from_pretrained(\n",
    "    model_path_name,\n",
    "    num_labels=6,\n",
    "    hidden_dropout_prob=0.2\n",
    ")"
   ]
  },
  {
   "cell_type": "code",
   "execution_count": 17,
   "id": "52ef883f-ed2e-4aae-8603-878628a66026",
   "metadata": {},
   "outputs": [],
   "source": [
    "lr = 2e-5\n",
    "batch_size = 16\n",
    "num_epochs = 5\n",
    "\n",
    "training_args = TrainingArguments(\n",
    "    output_dir='../output/distilbert-liar-classifier',\n",
    "    run_name='distilbert-liar-classif-run',\n",
    "    learning_rate=lr, \n",
    "    lr_scheduler_type='linear',\n",
    "    warmup_ratio=0.1,\n",
    "    weight_decay=0.01,\n",
    "    per_device_train_batch_size=batch_size,\n",
    "    per_device_eval_batch_size=batch_size,\n",
    "    num_train_epochs=num_epochs,\n",
    "    logging_strategy='epoch',\n",
    "    eval_strategy='epoch',\n",
    "    save_strategy='epoch',\n",
    "    load_best_model_at_end=True,\n",
    "    metric_for_best_model='eval_macro_f1 score:'    \n",
    ")"
   ]
  },
  {
   "cell_type": "code",
   "execution_count": 19,
   "id": "7419891b-4e13-4ac9-9b44-aa9ec2210025",
   "metadata": {},
   "outputs": [],
   "source": [
    "trainer = Trainer(\n",
    "    model=model, \n",
    "    args=training_args,\n",
    "    train_dataset=tokenized_data['train'],\n",
    "    eval_dataset=tokenized_data['validation'],\n",
    "    processing_class=tokenizer,\n",
    "    data_collator=data_collator,\n",
    "    compute_metrics=compute_metrics\n",
    ")"
   ]
  },
  {
   "cell_type": "code",
   "execution_count": 21,
   "id": "c5b47af1-18c5-4563-8ffd-dbf418d18cd0",
   "metadata": {},
   "outputs": [
    {
     "data": {
      "text/html": [
       "\n",
       "    <div>\n",
       "      \n",
       "      <progress value='3210' max='3210' style='width:300px; height:20px; vertical-align: middle;'></progress>\n",
       "      [3210/3210 29:44, Epoch 5/5]\n",
       "    </div>\n",
       "    <table border=\"1\" class=\"dataframe\">\n",
       "  <thead>\n",
       " <tr style=\"text-align: left;\">\n",
       "      <th>Epoch</th>\n",
       "      <th>Training Loss</th>\n",
       "      <th>Validation Loss</th>\n",
       "      <th>Accuracy:</th>\n",
       "      <th>Macro F1 score:</th>\n",
       "    </tr>\n",
       "  </thead>\n",
       "  <tbody>\n",
       "    <tr>\n",
       "      <td>1</td>\n",
       "      <td>1.668600</td>\n",
       "      <td>1.702815</td>\n",
       "      <td>0.247664</td>\n",
       "      <td>0.216278</td>\n",
       "    </tr>\n",
       "    <tr>\n",
       "      <td>2</td>\n",
       "      <td>1.647400</td>\n",
       "      <td>1.683810</td>\n",
       "      <td>0.264019</td>\n",
       "      <td>0.236016</td>\n",
       "    </tr>\n",
       "    <tr>\n",
       "      <td>3</td>\n",
       "      <td>1.600900</td>\n",
       "      <td>1.682716</td>\n",
       "      <td>0.262461</td>\n",
       "      <td>0.244338</td>\n",
       "    </tr>\n",
       "    <tr>\n",
       "      <td>4</td>\n",
       "      <td>1.558200</td>\n",
       "      <td>1.692566</td>\n",
       "      <td>0.258567</td>\n",
       "      <td>0.237617</td>\n",
       "    </tr>\n",
       "    <tr>\n",
       "      <td>5</td>\n",
       "      <td>1.527600</td>\n",
       "      <td>1.679360</td>\n",
       "      <td>0.281153</td>\n",
       "      <td>0.270948</td>\n",
       "    </tr>\n",
       "  </tbody>\n",
       "</table><p>"
      ],
      "text/plain": [
       "<IPython.core.display.HTML object>"
      ]
     },
     "metadata": {},
     "output_type": "display_data"
    },
    {
     "data": {
      "text/plain": [
       "TrainOutput(global_step=3210, training_loss=1.6005373185297411, metrics={'train_runtime': 1786.4663, 'train_samples_per_second': 28.741, 'train_steps_per_second': 1.797, 'total_flos': 1700505941783040.0, 'train_loss': 1.6005373185297411, 'epoch': 5.0})"
      ]
     },
     "execution_count": 21,
     "metadata": {},
     "output_type": "execute_result"
    }
   ],
   "source": [
    "trainer.train()"
   ]
  },
  {
   "cell_type": "code",
   "execution_count": null,
   "id": "6c70438f-c3fb-4cf1-a3da-0d66a16ee8c9",
   "metadata": {},
   "outputs": [],
   "source": []
  },
  {
   "cell_type": "code",
   "execution_count": null,
   "id": "6b1e1d2a-ebdf-41aa-8864-90d83a290287",
   "metadata": {},
   "outputs": [],
   "source": []
  },
  {
   "cell_type": "code",
   "execution_count": null,
   "id": "e72a3082-8663-4358-958c-81dd0335a165",
   "metadata": {},
   "outputs": [],
   "source": []
  }
 ],
 "metadata": {
  "kernelspec": {
   "display_name": "Python [conda env:base] *",
   "language": "python",
   "name": "conda-base-py"
  },
  "language_info": {
   "codemirror_mode": {
    "name": "ipython",
    "version": 3
   },
   "file_extension": ".py",
   "mimetype": "text/x-python",
   "name": "python",
   "nbconvert_exporter": "python",
   "pygments_lexer": "ipython3",
   "version": "3.9.19"
  }
 },
 "nbformat": 4,
 "nbformat_minor": 5
}
