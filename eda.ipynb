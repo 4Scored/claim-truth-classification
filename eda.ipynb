{
 "cells": [
  {
   "cell_type": "code",
   "execution_count": 1,
   "id": "365c018b-e7fc-4653-84dd-b931906c4010",
   "metadata": {},
   "outputs": [],
   "source": [
    "import pandas as pd\n",
    "from IPython.display import display\n",
    "from datasets import load_dataset"
   ]
  },
  {
   "cell_type": "code",
   "execution_count": 2,
   "id": "038d0458-31c8-4db7-b1a1-21d20d110a83",
   "metadata": {},
   "outputs": [],
   "source": [
    "data = load_dataset(\"liar\", trust_remote_code=True)"
   ]
  },
  {
   "cell_type": "code",
   "execution_count": 3,
   "id": "063403a9-9015-48f6-a417-cb6537c1e529",
   "metadata": {},
   "outputs": [
    {
     "data": {
      "text/plain": [
       "DatasetDict({\n",
       "    train: Dataset({\n",
       "        features: ['id', 'label', 'statement', 'subject', 'speaker', 'job_title', 'state_info', 'party_affiliation', 'barely_true_counts', 'false_counts', 'half_true_counts', 'mostly_true_counts', 'pants_on_fire_counts', 'context'],\n",
       "        num_rows: 10269\n",
       "    })\n",
       "    test: Dataset({\n",
       "        features: ['id', 'label', 'statement', 'subject', 'speaker', 'job_title', 'state_info', 'party_affiliation', 'barely_true_counts', 'false_counts', 'half_true_counts', 'mostly_true_counts', 'pants_on_fire_counts', 'context'],\n",
       "        num_rows: 1283\n",
       "    })\n",
       "    validation: Dataset({\n",
       "        features: ['id', 'label', 'statement', 'subject', 'speaker', 'job_title', 'state_info', 'party_affiliation', 'barely_true_counts', 'false_counts', 'half_true_counts', 'mostly_true_counts', 'pants_on_fire_counts', 'context'],\n",
       "        num_rows: 1284\n",
       "    })\n",
       "})"
      ]
     },
     "execution_count": 3,
     "metadata": {},
     "output_type": "execute_result"
    }
   ],
   "source": [
    "data"
   ]
  },
  {
   "cell_type": "code",
   "execution_count": 4,
   "id": "5dbdc0be-12f4-44e3-8006-97e359809046",
   "metadata": {},
   "outputs": [
    {
     "data": {
      "text/plain": [
       "{'id': Value(dtype='string', id=None),\n",
       " 'label': ClassLabel(names=['false', 'half-true', 'mostly-true', 'true', 'barely-true', 'pants-fire'], id=None),\n",
       " 'statement': Value(dtype='string', id=None),\n",
       " 'subject': Value(dtype='string', id=None),\n",
       " 'speaker': Value(dtype='string', id=None),\n",
       " 'job_title': Value(dtype='string', id=None),\n",
       " 'state_info': Value(dtype='string', id=None),\n",
       " 'party_affiliation': Value(dtype='string', id=None),\n",
       " 'barely_true_counts': Value(dtype='float32', id=None),\n",
       " 'false_counts': Value(dtype='float32', id=None),\n",
       " 'half_true_counts': Value(dtype='float32', id=None),\n",
       " 'mostly_true_counts': Value(dtype='float32', id=None),\n",
       " 'pants_on_fire_counts': Value(dtype='float32', id=None),\n",
       " 'context': Value(dtype='string', id=None)}"
      ]
     },
     "execution_count": 4,
     "metadata": {},
     "output_type": "execute_result"
    }
   ],
   "source": [
    "data['train'].features\n",
    "\n",
    "# 'false' (0), 'half-true' (1), 'mostly-true' (2), 'true' (3), 'barely-true' (4), 'pants-fire' (5)\n",
    "\n",
    "# real-world order      : pants-fire, false, barely-true, half-true, mostly-true, and true\n",
    "# dataset-assigned order: 5, 0, 4, 1, 2, 3"
   ]
  },
  {
   "cell_type": "code",
   "execution_count": 5,
   "id": "1a529c9b-e3ef-42c4-8162-1e7768c31a4f",
   "metadata": {},
   "outputs": [],
   "source": [
    "# pandas, to dataframe for simpler eda process\n",
    "df_train = data['train'].to_pandas()\n",
    "df_test = data['test'].to_pandas()\n",
    "df_validation = data['validation'].to_pandas()\n",
    "\n",
    "df_types = {\n",
    "    'df_train': df_train,\n",
    "    'df_test': df_test,\n",
    "    'df_validation': df_validation\n",
    "}"
   ]
  },
  {
   "cell_type": "code",
   "execution_count": 6,
   "id": "7df0f40f-3dcb-4056-8a08-4d2957f09f38",
   "metadata": {},
   "outputs": [
    {
     "name": "stdout",
     "output_type": "stream",
     "text": [
      "\n",
      "\n",
      "df_train:\n"
     ]
    },
    {
     "data": {
      "text/html": [
       "<div>\n",
       "<style scoped>\n",
       "    .dataframe tbody tr th:only-of-type {\n",
       "        vertical-align: middle;\n",
       "    }\n",
       "\n",
       "    .dataframe tbody tr th {\n",
       "        vertical-align: top;\n",
       "    }\n",
       "\n",
       "    .dataframe thead th {\n",
       "        text-align: right;\n",
       "    }\n",
       "</style>\n",
       "<table border=\"1\" class=\"dataframe\">\n",
       "  <thead>\n",
       "    <tr style=\"text-align: right;\">\n",
       "      <th></th>\n",
       "      <th>id</th>\n",
       "      <th>label</th>\n",
       "      <th>statement</th>\n",
       "      <th>subject</th>\n",
       "      <th>speaker</th>\n",
       "      <th>job_title</th>\n",
       "      <th>state_info</th>\n",
       "      <th>party_affiliation</th>\n",
       "      <th>barely_true_counts</th>\n",
       "      <th>false_counts</th>\n",
       "      <th>half_true_counts</th>\n",
       "      <th>mostly_true_counts</th>\n",
       "      <th>pants_on_fire_counts</th>\n",
       "      <th>context</th>\n",
       "    </tr>\n",
       "  </thead>\n",
       "  <tbody>\n",
       "    <tr>\n",
       "      <th>0</th>\n",
       "      <td>2635.json</td>\n",
       "      <td>0</td>\n",
       "      <td>Says the Annies List political group supports ...</td>\n",
       "      <td>abortion</td>\n",
       "      <td>dwayne-bohac</td>\n",
       "      <td>State representative</td>\n",
       "      <td>Texas</td>\n",
       "      <td>republican</td>\n",
       "      <td>0.0</td>\n",
       "      <td>1.0</td>\n",
       "      <td>0.0</td>\n",
       "      <td>0.0</td>\n",
       "      <td>0.0</td>\n",
       "      <td>a mailer</td>\n",
       "    </tr>\n",
       "    <tr>\n",
       "      <th>1</th>\n",
       "      <td>10540.json</td>\n",
       "      <td>1</td>\n",
       "      <td>When did the decline of coal start? It started...</td>\n",
       "      <td>energy,history,job-accomplishments</td>\n",
       "      <td>scott-surovell</td>\n",
       "      <td>State delegate</td>\n",
       "      <td>Virginia</td>\n",
       "      <td>democrat</td>\n",
       "      <td>0.0</td>\n",
       "      <td>0.0</td>\n",
       "      <td>1.0</td>\n",
       "      <td>1.0</td>\n",
       "      <td>0.0</td>\n",
       "      <td>a floor speech.</td>\n",
       "    </tr>\n",
       "    <tr>\n",
       "      <th>2</th>\n",
       "      <td>324.json</td>\n",
       "      <td>2</td>\n",
       "      <td>Hillary Clinton agrees with John McCain \"by vo...</td>\n",
       "      <td>foreign-policy</td>\n",
       "      <td>barack-obama</td>\n",
       "      <td>President</td>\n",
       "      <td>Illinois</td>\n",
       "      <td>democrat</td>\n",
       "      <td>70.0</td>\n",
       "      <td>71.0</td>\n",
       "      <td>160.0</td>\n",
       "      <td>163.0</td>\n",
       "      <td>9.0</td>\n",
       "      <td>Denver</td>\n",
       "    </tr>\n",
       "  </tbody>\n",
       "</table>\n",
       "</div>"
      ],
      "text/plain": [
       "           id  label                                          statement  \\\n",
       "0   2635.json      0  Says the Annies List political group supports ...   \n",
       "1  10540.json      1  When did the decline of coal start? It started...   \n",
       "2    324.json      2  Hillary Clinton agrees with John McCain \"by vo...   \n",
       "\n",
       "                              subject         speaker             job_title  \\\n",
       "0                            abortion    dwayne-bohac  State representative   \n",
       "1  energy,history,job-accomplishments  scott-surovell        State delegate   \n",
       "2                      foreign-policy    barack-obama             President   \n",
       "\n",
       "  state_info party_affiliation  barely_true_counts  false_counts  \\\n",
       "0      Texas        republican                 0.0           1.0   \n",
       "1   Virginia          democrat                 0.0           0.0   \n",
       "2   Illinois          democrat                70.0          71.0   \n",
       "\n",
       "   half_true_counts  mostly_true_counts  pants_on_fire_counts          context  \n",
       "0               0.0                 0.0                   0.0         a mailer  \n",
       "1               1.0                 1.0                   0.0  a floor speech.  \n",
       "2             160.0               163.0                   9.0           Denver  "
      ]
     },
     "metadata": {},
     "output_type": "display_data"
    },
    {
     "name": "stdout",
     "output_type": "stream",
     "text": [
      "\n",
      "\n",
      "df_test:\n"
     ]
    },
    {
     "data": {
      "text/html": [
       "<div>\n",
       "<style scoped>\n",
       "    .dataframe tbody tr th:only-of-type {\n",
       "        vertical-align: middle;\n",
       "    }\n",
       "\n",
       "    .dataframe tbody tr th {\n",
       "        vertical-align: top;\n",
       "    }\n",
       "\n",
       "    .dataframe thead th {\n",
       "        text-align: right;\n",
       "    }\n",
       "</style>\n",
       "<table border=\"1\" class=\"dataframe\">\n",
       "  <thead>\n",
       "    <tr style=\"text-align: right;\">\n",
       "      <th></th>\n",
       "      <th>id</th>\n",
       "      <th>label</th>\n",
       "      <th>statement</th>\n",
       "      <th>subject</th>\n",
       "      <th>speaker</th>\n",
       "      <th>job_title</th>\n",
       "      <th>state_info</th>\n",
       "      <th>party_affiliation</th>\n",
       "      <th>barely_true_counts</th>\n",
       "      <th>false_counts</th>\n",
       "      <th>half_true_counts</th>\n",
       "      <th>mostly_true_counts</th>\n",
       "      <th>pants_on_fire_counts</th>\n",
       "      <th>context</th>\n",
       "    </tr>\n",
       "  </thead>\n",
       "  <tbody>\n",
       "    <tr>\n",
       "      <th>0</th>\n",
       "      <td>11972.json</td>\n",
       "      <td>3</td>\n",
       "      <td>Building a wall on the U.S.-Mexico border will...</td>\n",
       "      <td>immigration</td>\n",
       "      <td>rick-perry</td>\n",
       "      <td>Governor</td>\n",
       "      <td>Texas</td>\n",
       "      <td>republican</td>\n",
       "      <td>30.0</td>\n",
       "      <td>30.0</td>\n",
       "      <td>42.0</td>\n",
       "      <td>23.0</td>\n",
       "      <td>18.0</td>\n",
       "      <td>Radio interview</td>\n",
       "    </tr>\n",
       "    <tr>\n",
       "      <th>1</th>\n",
       "      <td>11685.json</td>\n",
       "      <td>0</td>\n",
       "      <td>Wisconsin is on pace to double the number of l...</td>\n",
       "      <td>jobs</td>\n",
       "      <td>katrina-shankland</td>\n",
       "      <td>State representative</td>\n",
       "      <td>Wisconsin</td>\n",
       "      <td>democrat</td>\n",
       "      <td>2.0</td>\n",
       "      <td>1.0</td>\n",
       "      <td>0.0</td>\n",
       "      <td>0.0</td>\n",
       "      <td>0.0</td>\n",
       "      <td>a news conference</td>\n",
       "    </tr>\n",
       "    <tr>\n",
       "      <th>2</th>\n",
       "      <td>11096.json</td>\n",
       "      <td>0</td>\n",
       "      <td>Says John McCain has done nothing to help the ...</td>\n",
       "      <td>military,veterans,voting-record</td>\n",
       "      <td>donald-trump</td>\n",
       "      <td>President-Elect</td>\n",
       "      <td>New York</td>\n",
       "      <td>republican</td>\n",
       "      <td>63.0</td>\n",
       "      <td>114.0</td>\n",
       "      <td>51.0</td>\n",
       "      <td>37.0</td>\n",
       "      <td>61.0</td>\n",
       "      <td>comments on ABC's This Week.</td>\n",
       "    </tr>\n",
       "  </tbody>\n",
       "</table>\n",
       "</div>"
      ],
      "text/plain": [
       "           id  label                                          statement  \\\n",
       "0  11972.json      3  Building a wall on the U.S.-Mexico border will...   \n",
       "1  11685.json      0  Wisconsin is on pace to double the number of l...   \n",
       "2  11096.json      0  Says John McCain has done nothing to help the ...   \n",
       "\n",
       "                           subject            speaker             job_title  \\\n",
       "0                      immigration         rick-perry              Governor   \n",
       "1                             jobs  katrina-shankland  State representative   \n",
       "2  military,veterans,voting-record       donald-trump       President-Elect   \n",
       "\n",
       "  state_info party_affiliation  barely_true_counts  false_counts  \\\n",
       "0      Texas        republican                30.0          30.0   \n",
       "1  Wisconsin          democrat                 2.0           1.0   \n",
       "2   New York        republican                63.0         114.0   \n",
       "\n",
       "   half_true_counts  mostly_true_counts  pants_on_fire_counts  \\\n",
       "0              42.0                23.0                  18.0   \n",
       "1               0.0                 0.0                   0.0   \n",
       "2              51.0                37.0                  61.0   \n",
       "\n",
       "                        context  \n",
       "0               Radio interview  \n",
       "1             a news conference  \n",
       "2  comments on ABC's This Week.  "
      ]
     },
     "metadata": {},
     "output_type": "display_data"
    },
    {
     "name": "stdout",
     "output_type": "stream",
     "text": [
      "\n",
      "\n",
      "df_validation:\n"
     ]
    },
    {
     "data": {
      "text/html": [
       "<div>\n",
       "<style scoped>\n",
       "    .dataframe tbody tr th:only-of-type {\n",
       "        vertical-align: middle;\n",
       "    }\n",
       "\n",
       "    .dataframe tbody tr th {\n",
       "        vertical-align: top;\n",
       "    }\n",
       "\n",
       "    .dataframe thead th {\n",
       "        text-align: right;\n",
       "    }\n",
       "</style>\n",
       "<table border=\"1\" class=\"dataframe\">\n",
       "  <thead>\n",
       "    <tr style=\"text-align: right;\">\n",
       "      <th></th>\n",
       "      <th>id</th>\n",
       "      <th>label</th>\n",
       "      <th>statement</th>\n",
       "      <th>subject</th>\n",
       "      <th>speaker</th>\n",
       "      <th>job_title</th>\n",
       "      <th>state_info</th>\n",
       "      <th>party_affiliation</th>\n",
       "      <th>barely_true_counts</th>\n",
       "      <th>false_counts</th>\n",
       "      <th>half_true_counts</th>\n",
       "      <th>mostly_true_counts</th>\n",
       "      <th>pants_on_fire_counts</th>\n",
       "      <th>context</th>\n",
       "    </tr>\n",
       "  </thead>\n",
       "  <tbody>\n",
       "    <tr>\n",
       "      <th>0</th>\n",
       "      <td>12134.json</td>\n",
       "      <td>4</td>\n",
       "      <td>We have less Americans working now than in the...</td>\n",
       "      <td>economy,jobs</td>\n",
       "      <td>vicky-hartzler</td>\n",
       "      <td>U.S. Representative</td>\n",
       "      <td>Missouri</td>\n",
       "      <td>republican</td>\n",
       "      <td>1.0</td>\n",
       "      <td>0.0</td>\n",
       "      <td>1.0</td>\n",
       "      <td>0.0</td>\n",
       "      <td>0.0</td>\n",
       "      <td>an interview with ABC17 News</td>\n",
       "    </tr>\n",
       "    <tr>\n",
       "      <th>1</th>\n",
       "      <td>238.json</td>\n",
       "      <td>5</td>\n",
       "      <td>When Obama was sworn into office, he DID NOT u...</td>\n",
       "      <td>obama-birth-certificate,religion</td>\n",
       "      <td>chain-email</td>\n",
       "      <td></td>\n",
       "      <td></td>\n",
       "      <td>none</td>\n",
       "      <td>11.0</td>\n",
       "      <td>43.0</td>\n",
       "      <td>8.0</td>\n",
       "      <td>5.0</td>\n",
       "      <td>105.0</td>\n",
       "      <td></td>\n",
       "    </tr>\n",
       "    <tr>\n",
       "      <th>2</th>\n",
       "      <td>7891.json</td>\n",
       "      <td>0</td>\n",
       "      <td>Says Having organizations parading as being so...</td>\n",
       "      <td>campaign-finance,congress,taxes</td>\n",
       "      <td>earl-blumenauer</td>\n",
       "      <td>U.S. representative</td>\n",
       "      <td>Oregon</td>\n",
       "      <td>democrat</td>\n",
       "      <td>0.0</td>\n",
       "      <td>1.0</td>\n",
       "      <td>1.0</td>\n",
       "      <td>1.0</td>\n",
       "      <td>0.0</td>\n",
       "      <td>a U.S. Ways and Means hearing</td>\n",
       "    </tr>\n",
       "  </tbody>\n",
       "</table>\n",
       "</div>"
      ],
      "text/plain": [
       "           id  label                                          statement  \\\n",
       "0  12134.json      4  We have less Americans working now than in the...   \n",
       "1    238.json      5  When Obama was sworn into office, he DID NOT u...   \n",
       "2   7891.json      0  Says Having organizations parading as being so...   \n",
       "\n",
       "                            subject          speaker            job_title  \\\n",
       "0                      economy,jobs   vicky-hartzler  U.S. Representative   \n",
       "1  obama-birth-certificate,religion      chain-email                        \n",
       "2   campaign-finance,congress,taxes  earl-blumenauer  U.S. representative   \n",
       "\n",
       "  state_info party_affiliation  barely_true_counts  false_counts  \\\n",
       "0   Missouri        republican                 1.0           0.0   \n",
       "1                         none                11.0          43.0   \n",
       "2     Oregon          democrat                 0.0           1.0   \n",
       "\n",
       "   half_true_counts  mostly_true_counts  pants_on_fire_counts  \\\n",
       "0               1.0                 0.0                   0.0   \n",
       "1               8.0                 5.0                 105.0   \n",
       "2               1.0                 1.0                   0.0   \n",
       "\n",
       "                         context  \n",
       "0   an interview with ABC17 News  \n",
       "1                                 \n",
       "2  a U.S. Ways and Means hearing  "
      ]
     },
     "metadata": {},
     "output_type": "display_data"
    }
   ],
   "source": [
    "for name, df in df_types.items():\n",
    "    print(f'\\n\\n{name}:')\n",
    "    display(df.head(3))"
   ]
  },
  {
   "cell_type": "code",
   "execution_count": 7,
   "id": "dc00e37f-4031-4663-8b6a-70403d8a9edf",
   "metadata": {},
   "outputs": [
    {
     "data": {
      "text/plain": [
       "'Says the Annies List political group supports third-trimester abortions on demand.'"
      ]
     },
     "execution_count": 7,
     "metadata": {},
     "output_type": "execute_result"
    }
   ],
   "source": [
    "df_train.iloc[0].statement"
   ]
  },
  {
   "cell_type": "code",
   "execution_count": 8,
   "id": "f03395aa-78dd-4717-8742-4911bd2ea4a6",
   "metadata": {},
   "outputs": [
    {
     "name": "stdout",
     "output_type": "stream",
     "text": [
      "df_train: 10269\n",
      "df_test: 1283\n",
      "df_validation: 1284\n"
     ]
    }
   ],
   "source": [
    "# size check\n",
    "for name, df in df_types.items():    \n",
    "    print(f'{name}: {len(df)}')"
   ]
  },
  {
   "cell_type": "code",
   "execution_count": 9,
   "id": "3cd90da5-33f5-4b29-9961-3c0b7efa1033",
   "metadata": {},
   "outputs": [
    {
     "name": "stdout",
     "output_type": "stream",
     "text": [
      "df_train -- NA/null values exist? False | Empty strings exist? True\n",
      "df_test -- NA/null values exist? False | Empty strings exist? True\n",
      "df_validation -- NA/null values exist? False | Empty strings exist? True\n"
     ]
    }
   ],
   "source": [
    "# nan/na/null and empty string check\n",
    "for name, df in df_types.items():\n",
    "    print(f\"{name} -- NA/null values exist? {df.isna().any().any()} | Empty strings exist? {(df == '').any().any()}\")"
   ]
  },
  {
   "cell_type": "code",
   "execution_count": 11,
   "id": "f193a813-e24c-4fec-a783-7d497bcebf3c",
   "metadata": {},
   "outputs": [
    {
     "data": {
      "text/plain": [
       "''"
      ]
     },
     "execution_count": 11,
     "metadata": {},
     "output_type": "execute_result"
    }
   ],
   "source": [
    "df_validation.iloc[1].state_info"
   ]
  },
  {
   "cell_type": "code",
   "execution_count": 13,
   "id": "ba8ee81f-979f-4197-9498-d749f39ba870",
   "metadata": {},
   "outputs": [
    {
     "name": "stdout",
     "output_type": "stream",
     "text": [
      "cols with empty strings\n",
      "\n",
      "in df_train\n",
      "- job_title\n",
      "- state_info\n",
      "- context\n",
      "\n",
      "in df_test\n",
      "- job_title\n",
      "- state_info\n",
      "- context\n",
      "\n",
      "in df_validation\n",
      "- job_title\n",
      "- state_info\n",
      "- context\n"
     ]
    }
   ],
   "source": [
    "print('cols with empty strings')\n",
    "for name, df in df_types.items():    \n",
    "    empty_cols = df.columns[(df == '').any()]\n",
    "    if not empty_cols.empty:\n",
    "        print(f\"\\nin {name}\") \n",
    "        for col in empty_cols:\n",
    "            print(f\"- {col}\")"
   ]
  },
  {
   "cell_type": "code",
   "execution_count": 58,
   "id": "f780870d-e81b-457c-8ee2-95e5c1399a49",
   "metadata": {},
   "outputs": [
    {
     "name": "stdout",
     "output_type": "stream",
     "text": [
      "for df_train\n",
      "- half-true: 2123 (20.67%)\n",
      "- false: 1998 (19.46%)\n",
      "- mostly-true: 1966 (19.14%)\n",
      "- true: 1683 (16.39%)\n",
      "- barely-true: 1657 (16.14%)\n",
      "- pants-fire: 842 (8.20%)\n",
      "\n",
      "for df_test\n",
      "- half-true: 267 (20.81%)\n",
      "- false: 250 (19.49%)\n",
      "- mostly-true: 249 (19.41%)\n",
      "- barely-true: 214 (16.68%)\n",
      "- true: 211 (16.45%)\n",
      "- pants-fire: 92 (7.17%)\n",
      "\n",
      "for df_validation\n",
      "- false: 263 (20.48%)\n",
      "- mostly-true: 251 (19.55%)\n",
      "- half-true: 248 (19.31%)\n",
      "- barely-true: 237 (18.46%)\n",
      "- true: 169 (13.16%)\n",
      "- pants-fire: 116 (9.03%)\n",
      "\n"
     ]
    }
   ],
   "source": [
    "# label proportion check\n",
    "\n",
    "# reminder\n",
    "# real-world order      : pants-fire, false, barely-true, half-true, mostly-true, and true\n",
    "# dataset-assigned order: 5, 0, 4, 1, 2, 3\n",
    "corr_label = {\n",
    "    0: 'false',\n",
    "    1: 'half-true',\n",
    "    2: 'mostly-true',\n",
    "    3: 'true',\n",
    "    4: 'barely-true',\n",
    "    5: 'pants-fire',\n",
    "}\n",
    "\n",
    "for name, df in df_types.items():\n",
    "    print(f'for {name}')\n",
    "    counts = df.label.value_counts()#.sort_index()\n",
    "    for label_num, label_ct in counts.items():\n",
    "        corr_label_name = corr_label[label_num]\n",
    "        corr_percentage = \"{:.2%}\".format(label_ct / len(df))\n",
    "        print(f'- {corr_label_name}: {label_ct} ({corr_percentage})')\n",
    "    print()"
   ]
  },
  {
   "cell_type": "code",
   "execution_count": null,
   "id": "3210c259-0039-4536-b7b4-7d37750a1e15",
   "metadata": {},
   "outputs": [],
   "source": []
  },
  {
   "cell_type": "code",
   "execution_count": null,
   "id": "ad6644fa-34a4-4d61-96dc-4e2d3bdb7278",
   "metadata": {},
   "outputs": [],
   "source": []
  },
  {
   "cell_type": "code",
   "execution_count": null,
   "id": "df9c8dc5-ac36-4d72-84d8-d84a558e0c65",
   "metadata": {},
   "outputs": [],
   "source": []
  }
 ],
 "metadata": {
  "kernelspec": {
   "display_name": "Python [conda env:base] *",
   "language": "python",
   "name": "conda-base-py"
  },
  "language_info": {
   "codemirror_mode": {
    "name": "ipython",
    "version": 3
   },
   "file_extension": ".py",
   "mimetype": "text/x-python",
   "name": "python",
   "nbconvert_exporter": "python",
   "pygments_lexer": "ipython3",
   "version": "3.9.19"
  }
 },
 "nbformat": 4,
 "nbformat_minor": 5
}
